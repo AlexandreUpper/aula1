{
  "nbformat": 4,
  "nbformat_minor": 0,
  "metadata": {
    "colab": {
      "name": "Aula1_Revisão_Python.ipynb",
      "provenance": [],
      "include_colab_link": true
    },
    "kernelspec": {
      "name": "python3",
      "display_name": "Python 3"
    },
    "language_info": {
      "name": "python"
    }
  },
  "cells": [
    {
      "cell_type": "markdown",
      "metadata": {
        "id": "view-in-github",
        "colab_type": "text"
      },
      "source": [
        "<a href=\"https://colab.research.google.com/github/AlexandreUpper/aula1/blob/main/Aula1_Revis%C3%A3o_Python.ipynb\" target=\"_parent\"><img src=\"https://colab.research.google.com/assets/colab-badge.svg\" alt=\"Open In Colab\"/></a>"
      ]
    },
    {
      "cell_type": "markdown",
      "source": [
        "# Input/Output"
      ],
      "metadata": {
        "id": "m7yA433YvRL6"
      }
    },
    {
      "cell_type": "markdown",
      "source": [
        "Saída de dados pelo terminal (stdout)"
      ],
      "metadata": {
        "id": "98_VNsNDvd77"
      }
    },
    {
      "cell_type": "code",
      "source": [
        "print(\"Ola, mundo\")\n",
        "print(\"%i\" %4) # É possível utilizar com valores numéricos utilizando marcadores\n",
        "print(\"%f\" %4.9)\n",
        "print(\"%.1f\" %4.9)\n",
        "print(\"%5.1f\" %4.9)"
      ],
      "metadata": {
        "colab": {
          "base_uri": "https://localhost:8080/"
        },
        "id": "GTMNDvWmvkMX",
        "outputId": "de609a21-0148-4db3-ef8f-573d1fd759dd"
      },
      "execution_count": null,
      "outputs": [
        {
          "output_type": "stream",
          "name": "stdout",
          "text": [
            "Ola, mundo\n",
            "4\n",
            "4.900000\n",
            "4.9\n",
            "  4.9\n"
          ]
        }
      ]
    },
    {
      "cell_type": "markdown",
      "source": [
        "Entrada de dados pelo terminal (stdin)"
      ],
      "metadata": {
        "id": "2lrFSNenwa4b"
      }
    },
    {
      "cell_type": "code",
      "source": [
        "input(\"Digite algo: \") # Note que a resposta sempre é textual"
      ],
      "metadata": {
        "colab": {
          "base_uri": "https://localhost:8080/",
          "height": 53
        },
        "id": "_iCeSKtdwda6",
        "outputId": "9c0e9d03-1254-425f-e560-18791babcae9"
      },
      "execution_count": null,
      "outputs": [
        {
          "name": "stdout",
          "output_type": "stream",
          "text": [
            "Digite algo: ksjfl;asdf\n"
          ]
        },
        {
          "output_type": "execute_result",
          "data": {
            "application/vnd.google.colaboratory.intrinsic+json": {
              "type": "string"
            },
            "text/plain": [
              "'ksjfl;asdf'"
            ]
          },
          "metadata": {},
          "execution_count": 50
        }
      ]
    },
    {
      "cell_type": "markdown",
      "source": [
        "Comportamento padrão de células de um notebook"
      ],
      "metadata": {
        "id": "Ow8g3ubhwnUk"
      }
    },
    {
      "cell_type": "code",
      "source": [
        "5 + 4 # Se há uma operação sem atribuição ao final da célula, o notebook exibe-a"
      ],
      "metadata": {
        "colab": {
          "base_uri": "https://localhost:8080/"
        },
        "id": "y4zY6QyXwrET",
        "outputId": "5b182d10-05b9-4ddf-c595-2e4d41b3f3cd"
      },
      "execution_count": null,
      "outputs": [
        {
          "output_type": "execute_result",
          "data": {
            "text/plain": [
              "9"
            ]
          },
          "metadata": {},
          "execution_count": 51
        }
      ]
    },
    {
      "cell_type": "markdown",
      "source": [
        "# Operadores\n",
        "\n",
        "Fonte: https://www.w3schools.com/python/python_operators.asp"
      ],
      "metadata": {
        "id": "YNf-dpiSfg2s"
      }
    },
    {
      "cell_type": "markdown",
      "source": [
        "## Operadores Aritméticos\n",
        "Os operadores aritméticos são os elementos básicos para manipulação de valores numéricos."
      ],
      "metadata": {
        "id": "5VQe2S1yoFzd"
      }
    },
    {
      "cell_type": "markdown",
      "source": [
        "Operador de soma"
      ],
      "metadata": {
        "id": "P9HWsgeJoJg4"
      }
    },
    {
      "cell_type": "code",
      "source": [
        "3 + 4"
      ],
      "metadata": {
        "id": "6pEDcXuvoMHp"
      },
      "execution_count": null,
      "outputs": []
    },
    {
      "cell_type": "markdown",
      "source": [
        "Operador de subtração"
      ],
      "metadata": {
        "id": "rM9Te4SdoOq9"
      }
    },
    {
      "cell_type": "code",
      "source": [
        "5 - 3"
      ],
      "metadata": {
        "id": "C9U3Uj26oRCJ"
      },
      "execution_count": null,
      "outputs": []
    },
    {
      "cell_type": "markdown",
      "source": [
        "Operador de multiplicação"
      ],
      "metadata": {
        "id": "Deqh3k8DoiB9"
      }
    },
    {
      "cell_type": "code",
      "source": [
        "4 * 5"
      ],
      "metadata": {
        "colab": {
          "base_uri": "https://localhost:8080/"
        },
        "id": "Mq7bXhqZokSo",
        "outputId": "1c0f9bbf-9cfe-4834-f085-a0c4c6fdc16d"
      },
      "execution_count": null,
      "outputs": [
        {
          "output_type": "execute_result",
          "data": {
            "text/plain": [
              "20"
            ]
          },
          "metadata": {},
          "execution_count": 16
        }
      ]
    },
    {
      "cell_type": "markdown",
      "source": [
        "Operador de divisão"
      ],
      "metadata": {
        "id": "QHuIaD7XolvF"
      }
    },
    {
      "cell_type": "code",
      "source": [
        "15 / 5"
      ],
      "metadata": {
        "colab": {
          "base_uri": "https://localhost:8080/"
        },
        "id": "2OYeB-rvopAQ",
        "outputId": "52b46aba-8361-488d-e80f-b77457dc3fa7"
      },
      "execution_count": null,
      "outputs": [
        {
          "output_type": "execute_result",
          "data": {
            "text/plain": [
              "3.0"
            ]
          },
          "metadata": {},
          "execution_count": 17
        }
      ]
    },
    {
      "cell_type": "markdown",
      "source": [
        "Operador módulo (resto)"
      ],
      "metadata": {
        "id": "NX870or3ose5"
      }
    },
    {
      "cell_type": "code",
      "source": [
        "5 % 3"
      ],
      "metadata": {
        "colab": {
          "base_uri": "https://localhost:8080/"
        },
        "id": "5KzxwxiVowv1",
        "outputId": "e553c618-3da5-4c81-c180-eedce72ed3ce"
      },
      "execution_count": null,
      "outputs": [
        {
          "output_type": "execute_result",
          "data": {
            "text/plain": [
              "2"
            ]
          },
          "metadata": {},
          "execution_count": 19
        }
      ]
    },
    {
      "cell_type": "markdown",
      "source": [
        "Operador de parte inteira"
      ],
      "metadata": {
        "id": "ToXYkjfhpR40"
      }
    },
    {
      "cell_type": "code",
      "source": [
        "5 // 3"
      ],
      "metadata": {
        "colab": {
          "base_uri": "https://localhost:8080/"
        },
        "id": "xjvk5cTcpYi1",
        "outputId": "b480cfe9-ba76-4097-e9bc-591be8439905"
      },
      "execution_count": null,
      "outputs": [
        {
          "output_type": "execute_result",
          "data": {
            "text/plain": [
              "1"
            ]
          },
          "metadata": {},
          "execution_count": 20
        }
      ]
    },
    {
      "cell_type": "markdown",
      "source": [
        "Operador de exponenciação"
      ],
      "metadata": {
        "id": "2ExFDD6apbE_"
      }
    },
    {
      "cell_type": "code",
      "source": [
        "2 ** 2"
      ],
      "metadata": {
        "colab": {
          "base_uri": "https://localhost:8080/"
        },
        "id": "1_vS78Lupcy1",
        "outputId": "1642935b-4b93-4674-9ae1-c36271d8cf06"
      },
      "execution_count": null,
      "outputs": [
        {
          "output_type": "execute_result",
          "data": {
            "text/plain": [
              "4"
            ]
          },
          "metadata": {},
          "execution_count": 21
        }
      ]
    },
    {
      "cell_type": "markdown",
      "source": [
        "## Operadores de Atribuição\n",
        "\n",
        "Os operadores de atribuição são usados para armazenar valores em variáveis. Esses valores podem ser o resultado de operações entre valores numéricos ou até mesmo de outras variáveis."
      ],
      "metadata": {
        "id": "-8DbRIoRphTw"
      }
    },
    {
      "cell_type": "markdown",
      "source": [
        "Operador de atribuição simples"
      ],
      "metadata": {
        "id": "HrDSWGoxqpTn"
      }
    },
    {
      "cell_type": "code",
      "source": [
        "x = 5\n",
        "x"
      ],
      "metadata": {
        "colab": {
          "base_uri": "https://localhost:8080/"
        },
        "id": "ZNEL_9E8qxmm",
        "outputId": "aecc16c7-1b1b-476e-cbfd-5a5787843ca8"
      },
      "execution_count": null,
      "outputs": [
        {
          "output_type": "execute_result",
          "data": {
            "text/plain": [
              "5"
            ]
          },
          "metadata": {},
          "execution_count": 22
        }
      ]
    },
    {
      "cell_type": "markdown",
      "source": [
        "Operadores de atribuição com operações aritméticas"
      ],
      "metadata": {
        "id": "x1nC0fPeqzza"
      }
    },
    {
      "cell_type": "code",
      "source": [
        "x = 0\n",
        "x += 7 # Equivale a x = x + 7\n",
        "print(f\"x = {x}\")\n",
        "x -= 3 # Equivale a x = x - 3\n",
        "print(f\"x = {x}\")\n",
        "x *= 2 # Equivale a x = x * 2\n",
        "print(f\"x = {x}\")\n",
        "x /= 2 # Equivale a x = x / 2\n",
        "print(f\"x = {x}\")\n",
        "# Funciona também com //, % e **"
      ],
      "metadata": {
        "colab": {
          "base_uri": "https://localhost:8080/"
        },
        "id": "o10Vpe7kq5e-",
        "outputId": "b10d19fb-b83b-460e-89d9-f285d550900c"
      },
      "execution_count": null,
      "outputs": [
        {
          "output_type": "stream",
          "name": "stdout",
          "text": [
            "x = 7\n",
            "x = 4\n",
            "x = 8\n",
            "x = 4.0\n"
          ]
        }
      ]
    },
    {
      "cell_type": "markdown",
      "source": [
        "## Operadores de Comparação\n",
        "\n",
        "Os operadores de comparação, como o nome sugere, são usados quando é necessário comparar dois valores, sejam eles valores numéricos ou variáveis. O resultado dessas operações sempre será uma variável booleana (verdadeiro ou falso)."
      ],
      "metadata": {
        "id": "zDdN9Zp_pnjF"
      }
    },
    {
      "cell_type": "markdown",
      "source": [
        "Operador de igualdade"
      ],
      "metadata": {
        "id": "HlgefbIMtMCa"
      }
    },
    {
      "cell_type": "code",
      "source": [
        "print(2 == 3)\n",
        "print(3 == 3)"
      ],
      "metadata": {
        "colab": {
          "base_uri": "https://localhost:8080/"
        },
        "id": "7yjuqxvYtQ7V",
        "outputId": "5585a048-2bbe-4b30-f736-8fbdd625fd74"
      },
      "execution_count": null,
      "outputs": [
        {
          "output_type": "stream",
          "name": "stdout",
          "text": [
            "False\n",
            "True\n"
          ]
        }
      ]
    },
    {
      "cell_type": "markdown",
      "source": [
        "Operador de desigualdade"
      ],
      "metadata": {
        "id": "8lijBZI4tXtU"
      }
    },
    {
      "cell_type": "code",
      "source": [
        "print(2 != 3)\n",
        "print(3 != 3)"
      ],
      "metadata": {
        "colab": {
          "base_uri": "https://localhost:8080/"
        },
        "id": "1R7UDQsytbib",
        "outputId": "e91390f5-c074-484f-f0d2-7d33c969e44e"
      },
      "execution_count": null,
      "outputs": [
        {
          "output_type": "stream",
          "name": "stdout",
          "text": [
            "True\n",
            "False\n"
          ]
        }
      ]
    },
    {
      "cell_type": "markdown",
      "source": [
        "Operadores maior e maior ou igual"
      ],
      "metadata": {
        "id": "ZGwz1bN7te7U"
      }
    },
    {
      "cell_type": "code",
      "source": [
        "print(3 > 3)\n",
        "print(4 > 3)\n",
        "print(3 >= 3)"
      ],
      "metadata": {
        "colab": {
          "base_uri": "https://localhost:8080/"
        },
        "id": "9_UyKKTWtjNT",
        "outputId": "a02d3aa7-651e-4011-e27d-3e896db819f5"
      },
      "execution_count": null,
      "outputs": [
        {
          "output_type": "stream",
          "name": "stdout",
          "text": [
            "False\n",
            "True\n",
            "True\n"
          ]
        }
      ]
    },
    {
      "cell_type": "markdown",
      "source": [
        "Operadores menor e menor ou igual"
      ],
      "metadata": {
        "id": "L9vSD0SPtp-V"
      }
    },
    {
      "cell_type": "code",
      "source": [
        "print(3 < 3)\n",
        "print(2 < 3)\n",
        "print(3 <= 3)"
      ],
      "metadata": {
        "colab": {
          "base_uri": "https://localhost:8080/"
        },
        "id": "p4Zf64LmtsSr",
        "outputId": "fab35020-9b9e-4020-80a1-2314453cf239"
      },
      "execution_count": null,
      "outputs": [
        {
          "output_type": "stream",
          "name": "stdout",
          "text": [
            "False\n",
            "True\n",
            "True\n"
          ]
        }
      ]
    },
    {
      "cell_type": "markdown",
      "source": [
        "## Operadores Lógicos\n",
        "\n",
        "Os operadores lógicos devem utilizar exclusivamente variáveis ou expressões booleanas para implementar aritmética booleana. Eles efetivamente servem para rebuscar expressões lógicas."
      ],
      "metadata": {
        "id": "1bJ_dtP2pvZS"
      }
    },
    {
      "cell_type": "markdown",
      "source": [
        "Operador lógico and (E)"
      ],
      "metadata": {
        "id": "CirCAngcuM2F"
      }
    },
    {
      "cell_type": "code",
      "source": [
        "print(3 < 5 and 3 < 10)\n",
        "print(3 > 5 and 3 < 10)"
      ],
      "metadata": {
        "colab": {
          "base_uri": "https://localhost:8080/"
        },
        "id": "BbgWxgB5uD9u",
        "outputId": "99d2074e-a757-4e32-bc97-9c79c880aca5"
      },
      "execution_count": null,
      "outputs": [
        {
          "output_type": "stream",
          "name": "stdout",
          "text": [
            "True\n",
            "False\n"
          ]
        }
      ]
    },
    {
      "cell_type": "markdown",
      "source": [
        "Operador lógico or (OU)"
      ],
      "metadata": {
        "id": "3uHs7e8XuYrZ"
      }
    },
    {
      "cell_type": "code",
      "source": [
        "print(3 > 7 or 3 > 5)\n",
        "print(3 > 5 or 3 < 10)"
      ],
      "metadata": {
        "colab": {
          "base_uri": "https://localhost:8080/"
        },
        "id": "m2aDs7i9ubig",
        "outputId": "38d9b3d8-3b27-48a1-addc-178d9a972f4c"
      },
      "execution_count": null,
      "outputs": [
        {
          "output_type": "stream",
          "name": "stdout",
          "text": [
            "False\n",
            "True\n"
          ]
        }
      ]
    },
    {
      "cell_type": "markdown",
      "source": [
        "Operador lógico not (NEGAÇÃO)"
      ],
      "metadata": {
        "id": "6TB-tSZVupVe"
      }
    },
    {
      "cell_type": "code",
      "source": [
        "print(not True)"
      ],
      "metadata": {
        "colab": {
          "base_uri": "https://localhost:8080/"
        },
        "id": "WUjIQegluuXR",
        "outputId": "5eae7925-1165-400a-abe3-c5aba0f1fae4"
      },
      "execution_count": null,
      "outputs": [
        {
          "output_type": "stream",
          "name": "stdout",
          "text": [
            "False\n"
          ]
        }
      ]
    },
    {
      "cell_type": "markdown",
      "source": [
        "O python também permite algumas operações lógicas complexas com sintaxe simplificada, como:"
      ],
      "metadata": {
        "id": "uXiMhlGHux2C"
      }
    },
    {
      "cell_type": "code",
      "source": [
        "print(2 < 5 < 10)"
      ],
      "metadata": {
        "colab": {
          "base_uri": "https://localhost:8080/"
        },
        "id": "BjR1GSDSu4Pz",
        "outputId": "b165bd71-f8e2-4feb-b026-4181e26896ce"
      },
      "execution_count": null,
      "outputs": [
        {
          "output_type": "stream",
          "name": "stdout",
          "text": [
            "True\n"
          ]
        }
      ]
    },
    {
      "cell_type": "markdown",
      "source": [
        "# Exercícios #1"
      ],
      "metadata": {
        "id": "MGid1HdqxULO"
      }
    },
    {
      "cell_type": "markdown",
      "source": [
        "1) Elabore um programa que receba os valores de duas resistências e calcule a resistência equivalente em série e em paralelo"
      ],
      "metadata": {
        "id": "adgbaggwxdcI"
      }
    },
    {
      "cell_type": "code",
      "source": [
        "# Entrada de duas resistencias\n",
        "R1 =\n",
        "R2 =\n",
        "\n",
        "# Calculo da resistencia em série (R1 + R2)\n",
        "Rserie =\n",
        "\n",
        "# Calculo da resistencia equivalente em paralelo (R1.R2 / R1 + R2)\n",
        "Rparalelo ="
      ],
      "metadata": {
        "id": "_oQMIsUTxnBE"
      },
      "execution_count": null,
      "outputs": []
    },
    {
      "cell_type": "markdown",
      "source": [
        "# Funções"
      ],
      "metadata": {
        "id": "YMM8Xd5qzBmr"
      }
    },
    {
      "cell_type": "markdown",
      "source": [
        "Declaração de funções"
      ],
      "metadata": {
        "id": "Eiq6UOqfzNME"
      }
    },
    {
      "cell_type": "code",
      "source": [
        "def teste(parametros):\n",
        "  print(f\"A função teste foi chamada com os parâmetros: ({parametros})\")"
      ],
      "metadata": {
        "id": "BXXnLFcYzSiE"
      },
      "execution_count": null,
      "outputs": []
    },
    {
      "cell_type": "markdown",
      "source": [
        "Chamada de funções"
      ],
      "metadata": {
        "id": "V_bWYwixzmbU"
      }
    },
    {
      "cell_type": "code",
      "source": [
        "parametros = \"oi\" # Tente mudar esse valor\n",
        "teste(parametros)"
      ],
      "metadata": {
        "colab": {
          "base_uri": "https://localhost:8080/"
        },
        "id": "xmIRzpwOzoDV",
        "outputId": "f266017a-5e28-4229-d96a-a9107300e025"
      },
      "execution_count": null,
      "outputs": [
        {
          "output_type": "stream",
          "name": "stdout",
          "text": [
            "A função teste foi chamada com os parâmetros: (oi)\n"
          ]
        }
      ]
    },
    {
      "cell_type": "markdown",
      "source": [
        "Retorno de funções"
      ],
      "metadata": {
        "id": "BcKH4aATz0Q2"
      }
    },
    {
      "cell_type": "code",
      "source": [
        "def outro_teste():\n",
        "  return \"A função 'outro teste' retornou essa frase\""
      ],
      "metadata": {
        "id": "6KavHkvmz2DW"
      },
      "execution_count": null,
      "outputs": []
    },
    {
      "cell_type": "markdown",
      "source": [
        "Chamada de funções com retorno"
      ],
      "metadata": {
        "id": "wt-l3hGa0Bjj"
      }
    },
    {
      "cell_type": "code",
      "source": [
        "# A saída da função tem que ir para uma variável para poder ser usada!!!\n",
        "saida = outro_teste()\n",
        "print(saida)"
      ],
      "metadata": {
        "colab": {
          "base_uri": "https://localhost:8080/"
        },
        "id": "6QHfEEkw0EQr",
        "outputId": "585b7f2f-2008-46c2-e27a-697daaf128ff"
      },
      "execution_count": null,
      "outputs": [
        {
          "output_type": "stream",
          "name": "stdout",
          "text": [
            "A função 'outro teste' retornou essa frase\n"
          ]
        }
      ]
    },
    {
      "cell_type": "markdown",
      "source": [
        "# Exercícios #2"
      ],
      "metadata": {
        "id": "ilhpaWiK0Vy_"
      }
    },
    {
      "cell_type": "markdown",
      "source": [
        "1) Repita o exercício de resistências, mas agora crie uma função para cálculo de resistências em paralelo e outra para resistências em série"
      ],
      "metadata": {
        "id": "yyOZgLyC0YXQ"
      }
    },
    {
      "cell_type": "code",
      "source": [
        "def calcula_req_serie(r1, r2):\n",
        "  pass # Apague essa linha e insira seu código\n",
        "\n",
        "def calcula_req_paralelo(r1, r2):\n",
        "  pass"
      ],
      "metadata": {
        "id": "05cyBncM0fcR"
      },
      "execution_count": null,
      "outputs": []
    },
    {
      "cell_type": "code",
      "source": [
        "assert calcula_req_serie(1, 2) == 3\n",
        "assert calcula_req_serie(3, 4) == 7\n",
        "assert calcula_req_serie(10_000, 20_000) == 30_000"
      ],
      "metadata": {
        "id": "ipas2oe70qA5"
      },
      "execution_count": null,
      "outputs": []
    },
    {
      "cell_type": "markdown",
      "source": [
        "# Estruturas Condicionais"
      ],
      "metadata": {
        "id": "O80bfbZUu8FJ"
      }
    },
    {
      "cell_type": "markdown",
      "source": [
        "Estrutura condicional simples"
      ],
      "metadata": {
        "id": "M33ksJV512p-"
      }
    },
    {
      "cell_type": "code",
      "source": [
        "if condicao:\n",
        "  # Faca algo"
      ],
      "metadata": {
        "id": "YdG6RNut2VRS"
      },
      "execution_count": null,
      "outputs": []
    },
    {
      "cell_type": "markdown",
      "source": [
        "Estrutura condicional if-else"
      ],
      "metadata": {
        "id": "BhFn9cOg2b3N"
      }
    },
    {
      "cell_type": "code",
      "source": [
        "if condicao:\n",
        "  # Faca algo\n",
        "else:\n",
        "  # Faca outra coisa"
      ],
      "metadata": {
        "id": "-yUska5o2eJJ"
      },
      "execution_count": null,
      "outputs": []
    },
    {
      "cell_type": "markdown",
      "source": [
        "Estrutura condicional aninhada"
      ],
      "metadata": {
        "id": "0wTsT26G2iPi"
      }
    },
    {
      "cell_type": "code",
      "source": [
        "if condicao:\n",
        "  pass\n",
        "else:\n",
        "  if condicao2:\n",
        "    pass\n",
        "  else:\n",
        "    if condicao3:\n",
        "      pass # Pode ir ate o infinito..."
      ],
      "metadata": {
        "id": "JA6kMU-n2kfD"
      },
      "execution_count": null,
      "outputs": []
    },
    {
      "cell_type": "markdown",
      "source": [
        "Um pouco mais controlável..."
      ],
      "metadata": {
        "id": "BjRyEzlW26M4"
      }
    },
    {
      "cell_type": "code",
      "source": [
        "if condicao:\n",
        "  pass\n",
        "elif condicao2:\n",
        "  pass\n",
        "elif condicao3:\n",
        "  pass"
      ],
      "metadata": {
        "id": "HiFmaaLs2yKa"
      },
      "execution_count": null,
      "outputs": []
    },
    {
      "cell_type": "markdown",
      "source": [
        "# Exercícios #3"
      ],
      "metadata": {
        "id": "K59ff6lN1yi8"
      }
    },
    {
      "cell_type": "markdown",
      "source": [
        "1) Faça um programa para uma loja de tintas. O programa deverá pedir o tamanho, em metros quadrados, da área a ser pintada. Considere que a cobertura da tinta é de 1 litro para cada 6 m² e que a tinta é vendida em latas de 18 litros, que custam BRL 209,90 ou em galões de 3,6 litros, que custam BRL 78,90 ou em quartos de 900 ml, que custam BRL 30,90. \n",
        "\n",
        "Informe ao usuário o volume de tinta que deve comprada (acrescente 10% devido a eventuais desperdícios) e os respectivos preços, considerando a situação mais barata para o cliente, ou seja, uma composição de latas, galões e quartos para atingir o volume necessário.\n",
        "\n",
        "A implementação deve conter a função ```calcula_compra``` que recebe como parâmetro a area digitada pelo usuário e retorna uma frase informando quantas latas, galões e quartos o usuário deverá comprar e qual o valor total da compra. Exemplo:\n",
        "```bash\n",
        "Digite a área a ser pintada: 290\n",
        "3.0 latas, 0 galões e 0 quartos. Valor total de BRL 629.70.\n",
        "\n",
        "Digite a área a ser pintada: 40\n",
        "0.0 latas, 2.0 galões e 1.0 quartos. Valor total de BRL 188.70.\n",
        "\n",
        "Digite a área a ser pintada: 1500\n",
        "15.0 latas, 1.0 galões e 2.0 quartos. Valor total de BRL 3289.20.\n",
        "```\n",
        "\n",
        "Dica 1: se houver algum volume de tinta inferior ao quarto, adicione outro quarto à compra. \n",
        "\n",
        "Dica 2: se forem necessários 4 quartos, substitua esses itens por um galão. \n",
        "\n",
        "Dica 3: se forem necessários 5 galões, substitua esses itens por uma lata. \n",
        "\n",
        "Faça vários testes com as áreas digitadas. Teste um caso extremo digitando 290 m². "
      ],
      "metadata": {
        "id": "5uWQCwBe3BSZ"
      }
    },
    {
      "cell_type": "code",
      "source": [
        "import math\n",
        "area = float(input(\"Qual a área em m2 que precisa pintar?: \"))*1.1\n",
        "volume = area/6\n",
        "\n",
        "def calcula_compra(volume):\n",
        "  latas = volume // 18\n",
        "  galao = (volume-latas*18)//3.6\n",
        "  if galao >= 3:\n",
        "    latas = latas + 1\n",
        "    galao = galao - 3\n",
        "  quarto = math.ceil((volume-latas*18-galao*3.6)/0.9)\n",
        "  if quarto >= 3:\n",
        "    galao = galao + 1\n",
        "    quarto = quarto - 3\n",
        "  preco = float(latas*209.9 + galao*78.9 + quarto*30.9)\n",
        "  print(f\"Você precisa de {latas} latas de tinta, {galao} galões e {quarto} quartos para pintar sua parede. O total de sua compra é R$ {preco}\")\n",
        "\n",
        "calcula_compra(volume) "
      ],
      "metadata": {
        "id": "9gR2WxAP3dUI",
        "colab": {
          "base_uri": "https://localhost:8080/"
        },
        "outputId": "8f6bbee2-36d3-45ce-cc04-f16c89de4836"
      },
      "execution_count": 12,
      "outputs": [
        {
          "output_type": "stream",
          "name": "stdout",
          "text": [
            "Qual a área em m2 que precisa pintar?: 49\n",
            "Você precisa de 0.0 latas de tinta, 2.0 galões e 2 quartos para pintar sua parede. O total de sua compra é R$ 219.60000000000002\n"
          ]
        }
      ]
    },
    {
      "cell_type": "markdown",
      "source": [
        "2) Implemente a função ```area_ou_perimetro``` que recebe como parâmetros a largura e altura de um polígono de 4 faces (pode ser um retângulo ou um quadrado). Se for um quadrado, retorne sua área. Se for um retângulo, retorne seu perímetro."
      ],
      "metadata": {
        "id": "F8N_TLn87_xN"
      }
    },
    {
      "cell_type": "code",
      "source": [
        "import math\n",
        "largura = float(input(\"Qual a largura do poligono?: \"))\n",
        "altura = float(input(\"Qual a altura do poligono?: \"))\n",
        "\n",
        "def area_ou_perimetro(largura, altura):\n",
        "  if largura = altura:\n",
        "    return largura*altura\n",
        "  else largura <> altura:\n",
        "    return largura*2 + altura*2\n",
        "\n",
        "area_ou_perimetro(largura, altura)"
      ],
      "metadata": {
        "id": "k65TRdST8UJY",
        "colab": {
          "base_uri": "https://localhost:8080/",
          "height": 131
        },
        "outputId": "e075a577-1c69-4ff6-c04c-0deb0d65a152"
      },
      "execution_count": 14,
      "outputs": [
        {
          "output_type": "error",
          "ename": "SyntaxError",
          "evalue": "ignored",
          "traceback": [
            "\u001b[0;36m  File \u001b[0;32m\"<ipython-input-14-5a69032faba2>\"\u001b[0;36m, line \u001b[0;32m6\u001b[0m\n\u001b[0;31m    if largura = altura:\u001b[0m\n\u001b[0m               ^\u001b[0m\n\u001b[0;31mSyntaxError\u001b[0m\u001b[0;31m:\u001b[0m invalid syntax\n"
          ]
        }
      ]
    },
    {
      "cell_type": "markdown",
      "source": [
        "# Laço de Repetição While"
      ],
      "metadata": {
        "id": "AdkMNmvhw8Kr"
      }
    },
    {
      "cell_type": "code",
      "source": [
        ""
      ],
      "metadata": {
        "id": "A9E8n9q076le"
      },
      "execution_count": null,
      "outputs": []
    },
    {
      "cell_type": "markdown",
      "source": [
        "# Strings"
      ],
      "metadata": {
        "id": "gJWZbiHaw3i_"
      }
    },
    {
      "cell_type": "markdown",
      "source": [
        "# Listas"
      ],
      "metadata": {
        "id": "mFl6qCrzw5IH"
      }
    },
    {
      "cell_type": "markdown",
      "source": [
        "# Laço de Repetição For"
      ],
      "metadata": {
        "id": "vWB1hol5xCd6"
      }
    },
    {
      "cell_type": "markdown",
      "source": [
        "# Dicionários"
      ],
      "metadata": {
        "id": "-LHhiSY_xFGL"
      }
    },
    {
      "cell_type": "code",
      "source": [
        ""
      ],
      "metadata": {
        "id": "OmAafa1Pw6Ow"
      },
      "execution_count": null,
      "outputs": []
    }
  ]
}